{
 "cells": [
  {
   "cell_type": "code",
   "execution_count": 13,
   "id": "addressed-freight",
   "metadata": {},
   "outputs": [],
   "source": [
    "import pandas as pd\n",
    "from sklearn.cluster import KMeans\n",
    "from sklearn.preprocessing import StandardScaler"
   ]
  },
  {
   "cell_type": "code",
   "execution_count": 2,
   "id": "continent-stuff",
   "metadata": {},
   "outputs": [],
   "source": [
    "df = pd.read_csv('pokemon.csv')"
   ]
  },
  {
   "cell_type": "code",
   "execution_count": 5,
   "id": "reverse-permit",
   "metadata": {},
   "outputs": [
    {
     "data": {
      "text/html": [
       "<div>\n",
       "<style scoped>\n",
       "    .dataframe tbody tr th:only-of-type {\n",
       "        vertical-align: middle;\n",
       "    }\n",
       "\n",
       "    .dataframe tbody tr th {\n",
       "        vertical-align: top;\n",
       "    }\n",
       "\n",
       "    .dataframe thead th {\n",
       "        text-align: right;\n",
       "    }\n",
       "</style>\n",
       "<table border=\"1\" class=\"dataframe\">\n",
       "  <thead>\n",
       "    <tr style=\"text-align: right;\">\n",
       "      <th></th>\n",
       "      <th>abilities</th>\n",
       "      <th>against_bug</th>\n",
       "      <th>against_dark</th>\n",
       "      <th>against_dragon</th>\n",
       "      <th>against_electric</th>\n",
       "      <th>against_fairy</th>\n",
       "      <th>against_fight</th>\n",
       "      <th>against_fire</th>\n",
       "      <th>against_flying</th>\n",
       "      <th>against_ghost</th>\n",
       "      <th>...</th>\n",
       "      <th>percentage_male</th>\n",
       "      <th>pokedex_number</th>\n",
       "      <th>sp_attack</th>\n",
       "      <th>sp_defense</th>\n",
       "      <th>speed</th>\n",
       "      <th>type1</th>\n",
       "      <th>type2</th>\n",
       "      <th>weight_kg</th>\n",
       "      <th>generation</th>\n",
       "      <th>is_legendary</th>\n",
       "    </tr>\n",
       "  </thead>\n",
       "  <tbody>\n",
       "    <tr>\n",
       "      <th>0</th>\n",
       "      <td>['Overgrow', 'Chlorophyll']</td>\n",
       "      <td>1.0</td>\n",
       "      <td>1.0</td>\n",
       "      <td>1.0</td>\n",
       "      <td>0.5</td>\n",
       "      <td>0.5</td>\n",
       "      <td>0.5</td>\n",
       "      <td>2.0</td>\n",
       "      <td>2.0</td>\n",
       "      <td>1.0</td>\n",
       "      <td>...</td>\n",
       "      <td>88.1</td>\n",
       "      <td>1</td>\n",
       "      <td>65</td>\n",
       "      <td>65</td>\n",
       "      <td>45</td>\n",
       "      <td>grass</td>\n",
       "      <td>poison</td>\n",
       "      <td>6.9</td>\n",
       "      <td>1</td>\n",
       "      <td>0</td>\n",
       "    </tr>\n",
       "    <tr>\n",
       "      <th>1</th>\n",
       "      <td>['Overgrow', 'Chlorophyll']</td>\n",
       "      <td>1.0</td>\n",
       "      <td>1.0</td>\n",
       "      <td>1.0</td>\n",
       "      <td>0.5</td>\n",
       "      <td>0.5</td>\n",
       "      <td>0.5</td>\n",
       "      <td>2.0</td>\n",
       "      <td>2.0</td>\n",
       "      <td>1.0</td>\n",
       "      <td>...</td>\n",
       "      <td>88.1</td>\n",
       "      <td>2</td>\n",
       "      <td>80</td>\n",
       "      <td>80</td>\n",
       "      <td>60</td>\n",
       "      <td>grass</td>\n",
       "      <td>poison</td>\n",
       "      <td>13.0</td>\n",
       "      <td>1</td>\n",
       "      <td>0</td>\n",
       "    </tr>\n",
       "  </tbody>\n",
       "</table>\n",
       "<p>2 rows × 41 columns</p>\n",
       "</div>"
      ],
      "text/plain": [
       "                     abilities  against_bug  against_dark  against_dragon  \\\n",
       "0  ['Overgrow', 'Chlorophyll']          1.0           1.0             1.0   \n",
       "1  ['Overgrow', 'Chlorophyll']          1.0           1.0             1.0   \n",
       "\n",
       "   against_electric  against_fairy  against_fight  against_fire  \\\n",
       "0               0.5            0.5            0.5           2.0   \n",
       "1               0.5            0.5            0.5           2.0   \n",
       "\n",
       "   against_flying  against_ghost  ...  percentage_male  pokedex_number  \\\n",
       "0             2.0            1.0  ...             88.1               1   \n",
       "1             2.0            1.0  ...             88.1               2   \n",
       "\n",
       "   sp_attack  sp_defense  speed  type1   type2  weight_kg  generation  \\\n",
       "0         65          65     45  grass  poison        6.9           1   \n",
       "1         80          80     60  grass  poison       13.0           1   \n",
       "\n",
       "   is_legendary  \n",
       "0             0  \n",
       "1             0  \n",
       "\n",
       "[2 rows x 41 columns]"
      ]
     },
     "execution_count": 5,
     "metadata": {},
     "output_type": "execute_result"
    }
   ],
   "source": [
    "df.head(2)"
   ]
  },
  {
   "cell_type": "code",
   "execution_count": 7,
   "id": "attended-mandate",
   "metadata": {},
   "outputs": [
    {
     "data": {
      "text/plain": [
       "Index(['abilities', 'against_bug', 'against_dark', 'against_dragon',\n",
       "       'against_electric', 'against_fairy', 'against_fight', 'against_fire',\n",
       "       'against_flying', 'against_ghost', 'against_grass', 'against_ground',\n",
       "       'against_ice', 'against_normal', 'against_poison', 'against_psychic',\n",
       "       'against_rock', 'against_steel', 'against_water', 'attack',\n",
       "       'base_egg_steps', 'base_happiness', 'base_total', 'capture_rate',\n",
       "       'classfication', 'defense', 'experience_growth', 'height_m', 'hp',\n",
       "       'japanese_name', 'name', 'percentage_male', 'pokedex_number',\n",
       "       'sp_attack', 'sp_defense', 'speed', 'type1', 'type2', 'weight_kg',\n",
       "       'generation', 'is_legendary'],\n",
       "      dtype='object')"
      ]
     },
     "execution_count": 7,
     "metadata": {},
     "output_type": "execute_result"
    }
   ],
   "source": [
    "df.columns"
   ]
  },
  {
   "cell_type": "code",
   "execution_count": 8,
   "id": "standing-guess",
   "metadata": {},
   "outputs": [],
   "source": [
    "select_columns = ['hp', 'attack', 'defense', 'sp_attack', 'sp_defense']"
   ]
  },
  {
   "cell_type": "code",
   "execution_count": 12,
   "id": "ethical-israeli",
   "metadata": {},
   "outputs": [],
   "source": [
    "df_input = df[select_columns]"
   ]
  },
  {
   "cell_type": "code",
   "execution_count": 16,
   "id": "satisfactory-florida",
   "metadata": {},
   "outputs": [],
   "source": [
    "std_scale = StandardScaler()\n",
    "df_scale = pd.DataFrame(std_scale.fit_transform(df_input), columns=df_input.columns)"
   ]
  },
  {
   "cell_type": "code",
   "execution_count": 17,
   "id": "british-traveler",
   "metadata": {},
   "outputs": [],
   "source": [
    "mod_kmeans = KMeans(n_clusters=8)\n",
    "_ = mod_kmeans.fit(df_scale)"
   ]
  },
  {
   "cell_type": "code",
   "execution_count": 20,
   "id": "christian-expansion",
   "metadata": {},
   "outputs": [],
   "source": [
    "df['labels'] = mod_kmeans.labels_"
   ]
  },
  {
   "cell_type": "code",
   "execution_count": 32,
   "id": "adopted-bailey",
   "metadata": {},
   "outputs": [],
   "source": [
    "user_input = 'Bulbasaur'"
   ]
  },
  {
   "cell_type": "code",
   "execution_count": 33,
   "id": "architectural-divorce",
   "metadata": {},
   "outputs": [],
   "source": [
    "target_label = df.query(\"name==@user_input\")['labels'].item()"
   ]
  },
  {
   "cell_type": "code",
   "execution_count": 46,
   "id": "tribal-protocol",
   "metadata": {},
   "outputs": [
    {
     "data": {
      "text/html": [
       "<div>\n",
       "<style scoped>\n",
       "    .dataframe tbody tr th:only-of-type {\n",
       "        vertical-align: middle;\n",
       "    }\n",
       "\n",
       "    .dataframe tbody tr th {\n",
       "        vertical-align: top;\n",
       "    }\n",
       "\n",
       "    .dataframe thead th {\n",
       "        text-align: right;\n",
       "    }\n",
       "</style>\n",
       "<table border=\"1\" class=\"dataframe\">\n",
       "  <thead>\n",
       "    <tr style=\"text-align: right;\">\n",
       "      <th></th>\n",
       "      <th>name</th>\n",
       "      <th>type1</th>\n",
       "    </tr>\n",
       "  </thead>\n",
       "  <tbody>\n",
       "    <tr>\n",
       "      <th>0</th>\n",
       "      <td>Ivysaur</td>\n",
       "      <td>grass</td>\n",
       "    </tr>\n",
       "    <tr>\n",
       "      <th>1</th>\n",
       "      <td>Charmeleon</td>\n",
       "      <td>fire</td>\n",
       "    </tr>\n",
       "    <tr>\n",
       "      <th>2</th>\n",
       "      <td>Wartortle</td>\n",
       "      <td>water</td>\n",
       "    </tr>\n",
       "    <tr>\n",
       "      <th>3</th>\n",
       "      <td>Butterfree</td>\n",
       "      <td>bug</td>\n",
       "    </tr>\n",
       "    <tr>\n",
       "      <th>4</th>\n",
       "      <td>Raticate</td>\n",
       "      <td>normal</td>\n",
       "    </tr>\n",
       "    <tr>\n",
       "      <th>...</th>\n",
       "      <td>...</td>\n",
       "      <td>...</td>\n",
       "    </tr>\n",
       "    <tr>\n",
       "      <th>166</th>\n",
       "      <td>Morelull</td>\n",
       "      <td>grass</td>\n",
       "    </tr>\n",
       "    <tr>\n",
       "      <th>167</th>\n",
       "      <td>Salazzle</td>\n",
       "      <td>poison</td>\n",
       "    </tr>\n",
       "    <tr>\n",
       "      <th>168</th>\n",
       "      <td>Stufful</td>\n",
       "      <td>normal</td>\n",
       "    </tr>\n",
       "    <tr>\n",
       "      <th>169</th>\n",
       "      <td>Sandygast</td>\n",
       "      <td>ghost</td>\n",
       "    </tr>\n",
       "    <tr>\n",
       "      <th>170</th>\n",
       "      <td>Hakamo-o</td>\n",
       "      <td>dragon</td>\n",
       "    </tr>\n",
       "  </tbody>\n",
       "</table>\n",
       "<p>171 rows × 2 columns</p>\n",
       "</div>"
      ],
      "text/plain": [
       "           name   type1\n",
       "0       Ivysaur   grass\n",
       "1    Charmeleon    fire\n",
       "2     Wartortle   water\n",
       "3    Butterfree     bug\n",
       "4      Raticate  normal\n",
       "..          ...     ...\n",
       "166    Morelull   grass\n",
       "167    Salazzle  poison\n",
       "168     Stufful  normal\n",
       "169   Sandygast   ghost\n",
       "170    Hakamo-o  dragon\n",
       "\n",
       "[171 rows x 2 columns]"
      ]
     },
     "execution_count": 46,
     "metadata": {},
     "output_type": "execute_result"
    }
   ],
   "source": [
    "df_result =  df.query('labels == @target_label & name !=@user_input')[['name', 'type1']].reset_index(drop=True)\n",
    "df_result"
   ]
  },
  {
   "cell_type": "code",
   "execution_count": 50,
   "id": "efficient-phrase",
   "metadata": {},
   "outputs": [],
   "source": [
    "def get_url(name): \n",
    "    return f'https://pokemondb.net/pokedex/{name}'"
   ]
  },
  {
   "cell_type": "code",
   "execution_count": 51,
   "id": "corporate-passage",
   "metadata": {},
   "outputs": [],
   "source": [
    "df_result['link'] = df_result['name'].apply(get_url)"
   ]
  },
  {
   "cell_type": "code",
   "execution_count": 54,
   "id": "outside-weather",
   "metadata": {},
   "outputs": [
    {
     "name": "stdout",
     "output_type": "stream",
     "text": [
      "|    | name       | type1   | link                                     |\n",
      "|---:|:-----------|:--------|:-----------------------------------------|\n",
      "|  0 | Ivysaur    | grass   | https://pokemondb.net/pokedex/Ivysaur    |\n",
      "|  1 | Charmeleon | fire    | https://pokemondb.net/pokedex/Charmeleon |\n",
      "|  2 | Wartortle  | water   | https://pokemondb.net/pokedex/Wartortle  |\n",
      "|  3 | Butterfree | bug     | https://pokemondb.net/pokedex/Butterfree |\n",
      "|  4 | Raticate   | normal  | https://pokemondb.net/pokedex/Raticate   |\n"
     ]
    }
   ],
   "source": [
    "print(df_result.head(5).to_markdown())"
   ]
  },
  {
   "cell_type": "code",
   "execution_count": null,
   "id": "french-hindu",
   "metadata": {},
   "outputs": [],
   "source": []
  }
 ],
 "metadata": {
  "kernelspec": {
   "display_name": "Python 3",
   "language": "python",
   "name": "python3"
  },
  "language_info": {
   "codemirror_mode": {
    "name": "ipython",
    "version": 3
   },
   "file_extension": ".py",
   "mimetype": "text/x-python",
   "name": "python",
   "nbconvert_exporter": "python",
   "pygments_lexer": "ipython3",
   "version": "3.7.9"
  }
 },
 "nbformat": 4,
 "nbformat_minor": 5
}
