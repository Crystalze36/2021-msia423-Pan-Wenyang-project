{
 "cells": [
  {
   "cell_type": "markdown",
   "id": "boxed-canvas",
   "metadata": {},
   "source": [
    "## Setup"
   ]
  },
  {
   "cell_type": "code",
   "execution_count": 1,
   "id": "solid-hobby",
   "metadata": {},
   "outputs": [],
   "source": [
    "from typing import List\n",
    "\n",
    "import numpy as np\n",
    "import pandas as pd\n",
    "import matplotlib.pyplot as plt\n",
    "import seaborn as sns\n",
    "from sklearn.cluster import KMeans\n",
    "from sklearn.preprocessing import StandardScaler\n",
    "from sklearn.metrics import silhouette_score, pairwise_distances"
   ]
  },
  {
   "cell_type": "markdown",
   "id": "certified-tractor",
   "metadata": {},
   "source": [
    "## Load Data"
   ]
  },
  {
   "cell_type": "code",
   "execution_count": 2,
   "id": "organizational-homeless",
   "metadata": {},
   "outputs": [],
   "source": [
    "df = pd.read_csv('../../data/sample/pokemon.csv')"
   ]
  },
  {
   "cell_type": "markdown",
   "id": "progressive-whole",
   "metadata": {},
   "source": [
    "## Explore Data"
   ]
  },
  {
   "cell_type": "code",
   "execution_count": 3,
   "id": "similar-nelson",
   "metadata": {},
   "outputs": [
    {
     "data": {
      "text/plain": [
       "(801, 41)"
      ]
     },
     "execution_count": 3,
     "metadata": {},
     "output_type": "execute_result"
    }
   ],
   "source": [
    "df.shape"
   ]
  },
  {
   "cell_type": "code",
   "execution_count": 4,
   "id": "removable-committee",
   "metadata": {},
   "outputs": [
    {
     "data": {
      "text/html": [
       "<div>\n",
       "<style scoped>\n",
       "    .dataframe tbody tr th:only-of-type {\n",
       "        vertical-align: middle;\n",
       "    }\n",
       "\n",
       "    .dataframe tbody tr th {\n",
       "        vertical-align: top;\n",
       "    }\n",
       "\n",
       "    .dataframe thead th {\n",
       "        text-align: right;\n",
       "    }\n",
       "</style>\n",
       "<table border=\"1\" class=\"dataframe\">\n",
       "  <thead>\n",
       "    <tr style=\"text-align: right;\">\n",
       "      <th></th>\n",
       "      <th>abilities</th>\n",
       "      <th>against_bug</th>\n",
       "      <th>against_dark</th>\n",
       "      <th>against_dragon</th>\n",
       "      <th>against_electric</th>\n",
       "      <th>against_fairy</th>\n",
       "      <th>against_fight</th>\n",
       "      <th>against_fire</th>\n",
       "      <th>against_flying</th>\n",
       "      <th>against_ghost</th>\n",
       "      <th>...</th>\n",
       "      <th>percentage_male</th>\n",
       "      <th>pokedex_number</th>\n",
       "      <th>sp_attack</th>\n",
       "      <th>sp_defense</th>\n",
       "      <th>speed</th>\n",
       "      <th>type1</th>\n",
       "      <th>type2</th>\n",
       "      <th>weight_kg</th>\n",
       "      <th>generation</th>\n",
       "      <th>is_legendary</th>\n",
       "    </tr>\n",
       "  </thead>\n",
       "  <tbody>\n",
       "    <tr>\n",
       "      <th>0</th>\n",
       "      <td>['Overgrow', 'Chlorophyll']</td>\n",
       "      <td>1.0</td>\n",
       "      <td>1.0</td>\n",
       "      <td>1.0</td>\n",
       "      <td>0.5</td>\n",
       "      <td>0.5</td>\n",
       "      <td>0.5</td>\n",
       "      <td>2.0</td>\n",
       "      <td>2.0</td>\n",
       "      <td>1.0</td>\n",
       "      <td>...</td>\n",
       "      <td>88.1</td>\n",
       "      <td>1</td>\n",
       "      <td>65</td>\n",
       "      <td>65</td>\n",
       "      <td>45</td>\n",
       "      <td>grass</td>\n",
       "      <td>poison</td>\n",
       "      <td>6.9</td>\n",
       "      <td>1</td>\n",
       "      <td>0</td>\n",
       "    </tr>\n",
       "    <tr>\n",
       "      <th>1</th>\n",
       "      <td>['Overgrow', 'Chlorophyll']</td>\n",
       "      <td>1.0</td>\n",
       "      <td>1.0</td>\n",
       "      <td>1.0</td>\n",
       "      <td>0.5</td>\n",
       "      <td>0.5</td>\n",
       "      <td>0.5</td>\n",
       "      <td>2.0</td>\n",
       "      <td>2.0</td>\n",
       "      <td>1.0</td>\n",
       "      <td>...</td>\n",
       "      <td>88.1</td>\n",
       "      <td>2</td>\n",
       "      <td>80</td>\n",
       "      <td>80</td>\n",
       "      <td>60</td>\n",
       "      <td>grass</td>\n",
       "      <td>poison</td>\n",
       "      <td>13.0</td>\n",
       "      <td>1</td>\n",
       "      <td>0</td>\n",
       "    </tr>\n",
       "  </tbody>\n",
       "</table>\n",
       "<p>2 rows × 41 columns</p>\n",
       "</div>"
      ],
      "text/plain": [
       "                     abilities  against_bug  against_dark  against_dragon  \\\n",
       "0  ['Overgrow', 'Chlorophyll']          1.0           1.0             1.0   \n",
       "1  ['Overgrow', 'Chlorophyll']          1.0           1.0             1.0   \n",
       "\n",
       "   against_electric  against_fairy  against_fight  against_fire  \\\n",
       "0               0.5            0.5            0.5           2.0   \n",
       "1               0.5            0.5            0.5           2.0   \n",
       "\n",
       "   against_flying  against_ghost  ...  percentage_male  pokedex_number  \\\n",
       "0             2.0            1.0  ...             88.1               1   \n",
       "1             2.0            1.0  ...             88.1               2   \n",
       "\n",
       "   sp_attack  sp_defense  speed  type1   type2  weight_kg  generation  \\\n",
       "0         65          65     45  grass  poison        6.9           1   \n",
       "1         80          80     60  grass  poison       13.0           1   \n",
       "\n",
       "   is_legendary  \n",
       "0             0  \n",
       "1             0  \n",
       "\n",
       "[2 rows x 41 columns]"
      ]
     },
     "execution_count": 4,
     "metadata": {},
     "output_type": "execute_result"
    }
   ],
   "source": [
    "df.head(2)"
   ]
  },
  {
   "cell_type": "code",
   "execution_count": 5,
   "id": "absolute-metabolism",
   "metadata": {},
   "outputs": [
    {
     "data": {
      "text/plain": [
       "Index(['abilities', 'against_bug', 'against_dark', 'against_dragon',\n",
       "       'against_electric', 'against_fairy', 'against_fight', 'against_fire',\n",
       "       'against_flying', 'against_ghost', 'against_grass', 'against_ground',\n",
       "       'against_ice', 'against_normal', 'against_poison', 'against_psychic',\n",
       "       'against_rock', 'against_steel', 'against_water', 'attack',\n",
       "       'base_egg_steps', 'base_happiness', 'base_total', 'capture_rate',\n",
       "       'classfication', 'defense', 'experience_growth', 'height_m', 'hp',\n",
       "       'japanese_name', 'name', 'percentage_male', 'pokedex_number',\n",
       "       'sp_attack', 'sp_defense', 'speed', 'type1', 'type2', 'weight_kg',\n",
       "       'generation', 'is_legendary'],\n",
       "      dtype='object')"
      ]
     },
     "execution_count": 5,
     "metadata": {},
     "output_type": "execute_result"
    }
   ],
   "source": [
    "df.columns"
   ]
  },
  {
   "cell_type": "markdown",
   "id": "korean-central",
   "metadata": {},
   "source": [
    "## Clean Data"
   ]
  },
  {
   "cell_type": "code",
   "execution_count": 6,
   "id": "challenging-guest",
   "metadata": {},
   "outputs": [],
   "source": [
    "def get_col(df, key_word):\n",
    "    return [col for col in df.columns if col.startswith(key_word)]"
   ]
  },
  {
   "cell_type": "code",
   "execution_count": 7,
   "id": "annual-dependence",
   "metadata": {},
   "outputs": [],
   "source": [
    "against_feature = get_col(df, 'against_')\n",
    "base_feature = get_col(df, 'base_')\n",
    "sp = get_col(df, 'sp_')\n",
    "important_basic = ['hp', 'attack', 'defense', 'speed']"
   ]
  },
  {
   "cell_type": "code",
   "execution_count": 8,
   "id": "editorial-brighton",
   "metadata": {},
   "outputs": [
    {
     "data": {
      "text/plain": [
       "['sp_attack', 'sp_defense', 'hp', 'attack', 'defense', 'speed']"
      ]
     },
     "execution_count": 8,
     "metadata": {},
     "output_type": "execute_result"
    }
   ],
   "source": [
    "select_features = sp + important_basic\n",
    "select_features"
   ]
  },
  {
   "cell_type": "code",
   "execution_count": 9,
   "id": "legal-softball",
   "metadata": {},
   "outputs": [],
   "source": [
    "df_input = df[select_features]"
   ]
  },
  {
   "cell_type": "code",
   "execution_count": 10,
   "id": "ignored-arabic",
   "metadata": {},
   "outputs": [],
   "source": [
    "std_scale = StandardScaler()\n",
    "df_scale = pd.DataFrame(std_scale.fit_transform(df_input), columns=df_input.columns)"
   ]
  },
  {
   "cell_type": "markdown",
   "id": "armed-slovenia",
   "metadata": {},
   "source": [
    "## Modeling"
   ]
  },
  {
   "cell_type": "code",
   "execution_count": 11,
   "id": "helpful-bosnia",
   "metadata": {},
   "outputs": [],
   "source": [
    "def get_a_mod_list_and_dict(df, cluster_range, seed=10):\n",
    "    mod_dict = {}\n",
    "    for k in cluster_range:\n",
    "        mod = KMeans(n_clusters=k, random_state=seed).fit(df)\n",
    "        mod_dict[str(k)] = mod\n",
    "    mod_list = list(mod_dict.values())\n",
    "    return mod_dict, mod_list"
   ]
  },
  {
   "cell_type": "code",
   "execution_count": 12,
   "id": "wired-dallas",
   "metadata": {},
   "outputs": [],
   "source": [
    "def cluster_selection_plot(df, mod_list, cluster_range):\n",
    "    within_ss = [i.inertia_ for i in mod_list]\n",
    "    silhouette_list = [silhouette_score(df, i.labels_) for i in mod_list]\n",
    "    \n",
    "    fig, axs = plt.subplots(nrows=1, ncols=2, figsize=(15,5))\n",
    "    axs[0].plot(cluster_range, within_ss, color='royalblue')\n",
    "    axs[1].plot(cluster_range, silhouette_list, color='green')\n",
    "    \n",
    "    for i in range(2): \n",
    "        axs[i].set_xlabel('number of clusters')\n",
    "    for idx, name in zip([0,1,2], ['inertia', 'silhouette score']): \n",
    "        axs[idx].set_ylabel(name)\n",
    "    \n",
    "    plt.show()"
   ]
  },
  {
   "cell_type": "code",
   "execution_count": 13,
   "id": "excellent-friday",
   "metadata": {},
   "outputs": [],
   "source": [
    "cluster_range = range(3, 12)"
   ]
  },
  {
   "cell_type": "code",
   "execution_count": 14,
   "id": "mechanical-drink",
   "metadata": {},
   "outputs": [],
   "source": [
    "mod_dict, mod_list = get_a_mod_list_and_dict(df_scale, cluster_range)"
   ]
  },
  {
   "cell_type": "code",
   "execution_count": 15,
   "id": "sophisticated-election",
   "metadata": {},
   "outputs": [
    {
     "data": {
      "image/png": "[encoded data removed]",
      "text/plain": [
       "<Figure size 1080x360 with 2 Axes>"
      ]
     },
     "metadata": {
      "needs_background": "light"
     },
     "output_type": "display_data"
    }
   ],
   "source": [
    "cluster_selection_plot(df_scale, mod_list, cluster_range)"
   ]
  },
  {
   "cell_type": "markdown",
   "id": "continent-rapid",
   "metadata": {},
   "source": [
    "<div class=\"alert alert-info\">We choose k = 6 because it produces a silhouette score that is better than the surrounding choices of $k$ and $k$ equals to 3 is too small for our use case. </div>"
   ]
  },
  {
   "cell_type": "code",
   "execution_count": 16,
   "id": "arctic-metro",
   "metadata": {},
   "outputs": [],
   "source": [
    "k_final = 6"
   ]
  },
  {
   "cell_type": "code",
   "execution_count": 17,
   "id": "loaded-replication",
   "metadata": {},
   "outputs": [],
   "source": [
    "final_mod = mod_dict[str(k_final)]"
   ]
  },
  {
   "cell_type": "markdown",
   "id": "incoming-documentary",
   "metadata": {},
   "source": [
    "## Explore Cluster"
   ]
  },
  {
   "cell_type": "code",
   "execution_count": 18,
   "id": "underlying-debut",
   "metadata": {},
   "outputs": [],
   "source": [
    "def summary_kmeans(df, mod):\n",
    "    df_summary = pd.DataFrame(mod.cluster_centers_, columns=list(df.columns))\n",
    "    df_summary['count'] = pd.Series(mod.labels_).value_counts().sort_index()\n",
    "    df_summary['percent'] = df_summary['count']/df_summary['count'].sum()\n",
    "    columns_ordered = ['count', 'percent'] + list(df.columns)\n",
    "    df_summary = df_summary[columns_ordered]\n",
    "    return df_summary"
   ]
  },
  {
   "cell_type": "code",
   "execution_count": 19,
   "id": "mounted-clinton",
   "metadata": {},
   "outputs": [],
   "source": [
    "def summary_plot(df, mod):\n",
    "    df_summary = summary_kmeans(df, mod)\n",
    "    x_max = df_summary.iloc[:,2:].values.max()\n",
    "    x_min = df_summary.iloc[:,2:].values.min()\n",
    "    \n",
    "    fig, axs = plt.subplots(nrows=1, ncols=mod.n_clusters, figsize=(25,5))\n",
    "    for i in range(mod.n_clusters):\n",
    "        if i > 0:\n",
    "            axs[i].get_yaxis().set_ticklabels([])\n",
    "        axs[i].scatter(x=df_summary.iloc[i, 2:].values, y=list(df.columns), color='royalblue')\n",
    "        axs[i].set_xlabel(f'cluster{str(i)}')\n",
    "        axs[i].set_xlim(x_min-0.5, x_max+0.5)\n",
    "    plt.show()"
   ]
  },
  {
   "cell_type": "code",
   "execution_count": 20,
   "id": "retained-visiting",
   "metadata": {},
   "outputs": [],
   "source": [
    "def lift_plot(df_scale, mod, feature_names):\n",
    "    df = df_scale.copy(deep=True)\n",
    "    df['cluster_label'] = mod.predict(df)\n",
    "    cluster_means = df.groupby('cluster_label')[feature_names].mean()\n",
    "    population_means = df[feature_names].mean()\n",
    "    lifts = cluster_means.divide(population_means)\n",
    "    \n",
    "    fig, ax = plt.subplots(figsize=(16, 10))\n",
    "\n",
    "    xticklabels = lifts.index.tolist() \n",
    "    yticklabels = lifts.columns.tolist()\n",
    "\n",
    "    ax = sns.heatmap(lifts.T, center=1, vmax=2.5, cmap=sns.diverging_palette(10, 220, sep=80, n=7),\n",
    "                    xticklabels=xticklabels, yticklabels=yticklabels)\n",
    "    ax.set_xlabel('Cluster number')\n",
    "    ax.set_title('Lift in cluster features (Cluster mean/population mean)')\n",
    "    plt.show()"
   ]
  },
  {
   "cell_type": "code",
   "execution_count": 21,
   "id": "lesser-there",
   "metadata": {},
   "outputs": [],
   "source": [
    "df_sum = summary_kmeans(df_scale, final_mod)"
   ]
  },
  {
   "cell_type": "code",
   "execution_count": 22,
   "id": "smoking-republican",
   "metadata": {},
   "outputs": [
    {
     "data": {
      "text/html": [
       "<div>\n",
       "<style scoped>\n",
       "    .dataframe tbody tr th:only-of-type {\n",
       "        vertical-align: middle;\n",
       "    }\n",
       "\n",
       "    .dataframe tbody tr th {\n",
       "        vertical-align: top;\n",
       "    }\n",
       "\n",
       "    .dataframe thead th {\n",
       "        text-align: right;\n",
       "    }\n",
       "</style>\n",
       "<table border=\"1\" class=\"dataframe\">\n",
       "  <thead>\n",
       "    <tr style=\"text-align: right;\">\n",
       "      <th></th>\n",
       "      <th>count</th>\n",
       "      <th>percent</th>\n",
       "      <th>sp_attack</th>\n",
       "      <th>sp_defense</th>\n",
       "      <th>hp</th>\n",
       "      <th>attack</th>\n",
       "      <th>defense</th>\n",
       "      <th>speed</th>\n",
       "    </tr>\n",
       "  </thead>\n",
       "  <tbody>\n",
       "    <tr>\n",
       "      <th>0</th>\n",
       "      <td>289</td>\n",
       "      <td>0.360799</td>\n",
       "      <td>-0.740377</td>\n",
       "      <td>-0.824052</td>\n",
       "      <td>-0.727766</td>\n",
       "      <td>-0.752670</td>\n",
       "      <td>-0.733624</td>\n",
       "      <td>-0.582302</td>\n",
       "    </tr>\n",
       "    <tr>\n",
       "      <th>1</th>\n",
       "      <td>120</td>\n",
       "      <td>0.149813</td>\n",
       "      <td>-0.325694</td>\n",
       "      <td>-0.003093</td>\n",
       "      <td>0.321275</td>\n",
       "      <td>0.973404</td>\n",
       "      <td>0.991316</td>\n",
       "      <td>-0.284459</td>\n",
       "    </tr>\n",
       "    <tr>\n",
       "      <th>2</th>\n",
       "      <td>42</td>\n",
       "      <td>0.052434</td>\n",
       "      <td>0.191569</td>\n",
       "      <td>0.358718</td>\n",
       "      <td>2.314424</td>\n",
       "      <td>-0.097807</td>\n",
       "      <td>-0.185341</td>\n",
       "      <td>-0.490416</td>\n",
       "    </tr>\n",
       "    <tr>\n",
       "      <th>3</th>\n",
       "      <td>91</td>\n",
       "      <td>0.113608</td>\n",
       "      <td>0.491159</td>\n",
       "      <td>1.325395</td>\n",
       "      <td>-0.017895</td>\n",
       "      <td>-0.358353</td>\n",
       "      <td>0.905641</td>\n",
       "      <td>-0.508357</td>\n",
       "    </tr>\n",
       "    <tr>\n",
       "      <th>4</th>\n",
       "      <td>157</td>\n",
       "      <td>0.196005</td>\n",
       "      <td>0.262585</td>\n",
       "      <td>-0.006406</td>\n",
       "      <td>-0.014756</td>\n",
       "      <td>0.107485</td>\n",
       "      <td>-0.292553</td>\n",
       "      <td>1.027957</td>\n",
       "    </tr>\n",
       "    <tr>\n",
       "      <th>5</th>\n",
       "      <td>102</td>\n",
       "      <td>0.127341</td>\n",
       "      <td>1.559659</td>\n",
       "      <td>1.018146</td>\n",
       "      <td>0.769714</td>\n",
       "      <td>1.181921</td>\n",
       "      <td>0.630994</td>\n",
       "      <td>1.057736</td>\n",
       "    </tr>\n",
       "  </tbody>\n",
       "</table>\n",
       "</div>"
      ],
      "text/plain": [
       "   count   percent  sp_attack  sp_defense        hp    attack   defense  \\\n",
       "0    289  0.360799  -0.740377   -0.824052 -0.727766 -0.752670 -0.733624   \n",
       "1    120  0.149813  -0.325694   -0.003093  0.321275  0.973404  0.991316   \n",
       "2     42  0.052434   0.191569    0.358718  2.314424 -0.097807 -0.185341   \n",
       "3     91  0.113608   0.491159    1.325395 -0.017895 -0.358353  0.905641   \n",
       "4    157  0.196005   0.262585   -0.006406 -0.014756  0.107485 -0.292553   \n",
       "5    102  0.127341   1.559659    1.018146  0.769714  1.181921  0.630994   \n",
       "\n",
       "      speed  \n",
       "0 -0.582302  \n",
       "1 -0.284459  \n",
       "2 -0.490416  \n",
       "3 -0.508357  \n",
       "4  1.027957  \n",
       "5  1.057736  "
      ]
     },
     "execution_count": 22,
     "metadata": {},
     "output_type": "execute_result"
    }
   ],
   "source": [
    "df_sum"
   ]
  },
  {
   "cell_type": "code",
   "execution_count": 23,
   "id": "passing-cathedral",
   "metadata": {},
   "outputs": [
    {
     "data": {
      "image/png": "[encoded data removed]",
      "text/plain": [
       "<Figure size 1800x360 with 6 Axes>"
      ]
     },
     "metadata": {
      "needs_background": "light"
     },
     "output_type": "display_data"
    }
   ],
   "source": [
    "summary_plot(df_scale, final_mod)"
   ]
  },
  {
   "cell_type": "code",
   "execution_count": 24,
   "id": "round-despite",
   "metadata": {},
   "outputs": [
    {
     "data": {
      "image/png": "[encoded data removed]",
      "text/plain": [
       "<Figure size 1152x720 with 2 Axes>"
      ]
     },
     "metadata": {
      "needs_background": "light"
     },
     "output_type": "display_data"
    }
   ],
   "source": [
    "lift_plot(df_scale, final_mod, select_features)"
   ]
  },
  {
   "cell_type": "markdown",
   "id": "vietnamese-paris",
   "metadata": {},
   "source": [
    "## Generate Recommendation"
   ]
  },
  {
   "cell_type": "code",
   "execution_count": 25,
   "id": "postal-corruption",
   "metadata": {},
   "outputs": [],
   "source": [
    "df_prepared = df_scale.copy(deep=True)"
   ]
  },
  {
   "cell_type": "code",
   "execution_count": 26,
   "id": "banner-insurance",
   "metadata": {},
   "outputs": [],
   "source": [
    "df_prepared = df_prepared.assign(cluster_label = final_mod.predict(df_scale),\n",
    "                                 name = df['name'])"
   ]
  },
  {
   "cell_type": "code",
   "execution_count": 27,
   "id": "tamil-executive",
   "metadata": {},
   "outputs": [
    {
     "data": {
      "text/html": [
       "<div>\n",
       "<style scoped>\n",
       "    .dataframe tbody tr th:only-of-type {\n",
       "        vertical-align: middle;\n",
       "    }\n",
       "\n",
       "    .dataframe tbody tr th {\n",
       "        vertical-align: top;\n",
       "    }\n",
       "\n",
       "    .dataframe thead th {\n",
       "        text-align: right;\n",
       "    }\n",
       "</style>\n",
       "<table border=\"1\" class=\"dataframe\">\n",
       "  <thead>\n",
       "    <tr style=\"text-align: right;\">\n",
       "      <th></th>\n",
       "      <th>sp_attack</th>\n",
       "      <th>sp_defense</th>\n",
       "      <th>hp</th>\n",
       "      <th>attack</th>\n",
       "      <th>defense</th>\n",
       "      <th>speed</th>\n",
       "      <th>cluster_label</th>\n",
       "      <th>name</th>\n",
       "    </tr>\n",
       "  </thead>\n",
       "  <tbody>\n",
       "    <tr>\n",
       "      <th>0</th>\n",
       "      <td>-0.195025</td>\n",
       "      <td>-0.211687</td>\n",
       "      <td>-0.902083</td>\n",
       "      <td>-0.897909</td>\n",
       "      <td>-0.780773</td>\n",
       "      <td>-0.738486</td>\n",
       "      <td>0</td>\n",
       "      <td>Bulbasaur</td>\n",
       "    </tr>\n",
       "    <tr>\n",
       "      <th>1</th>\n",
       "      <td>0.268888</td>\n",
       "      <td>0.325465</td>\n",
       "      <td>-0.337312</td>\n",
       "      <td>-0.493413</td>\n",
       "      <td>-0.325488</td>\n",
       "      <td>-0.219268</td>\n",
       "      <td>4</td>\n",
       "      <td>Ivysaur</td>\n",
       "    </tr>\n",
       "    <tr>\n",
       "      <th>2</th>\n",
       "      <td>1.567846</td>\n",
       "      <td>1.757871</td>\n",
       "      <td>0.415717</td>\n",
       "      <td>0.688960</td>\n",
       "      <td>1.625735</td>\n",
       "      <td>0.473022</td>\n",
       "      <td>5</td>\n",
       "      <td>Venusaur</td>\n",
       "    </tr>\n",
       "    <tr>\n",
       "      <th>3</th>\n",
       "      <td>-0.349663</td>\n",
       "      <td>-0.748839</td>\n",
       "      <td>-1.127992</td>\n",
       "      <td>-0.804564</td>\n",
       "      <td>-0.975896</td>\n",
       "      <td>-0.046196</td>\n",
       "      <td>0</td>\n",
       "      <td>Charmander</td>\n",
       "    </tr>\n",
       "    <tr>\n",
       "      <th>4</th>\n",
       "      <td>0.268888</td>\n",
       "      <td>-0.211687</td>\n",
       "      <td>-0.412614</td>\n",
       "      <td>-0.431183</td>\n",
       "      <td>-0.488090</td>\n",
       "      <td>0.473022</td>\n",
       "      <td>4</td>\n",
       "      <td>Charmeleon</td>\n",
       "    </tr>\n",
       "  </tbody>\n",
       "</table>\n",
       "</div>"
      ],
      "text/plain": [
       "   sp_attack  sp_defense        hp    attack   defense     speed  \\\n",
       "0  -0.195025   -0.211687 -0.902083 -0.897909 -0.780773 -0.738486   \n",
       "1   0.268888    0.325465 -0.337312 -0.493413 -0.325488 -0.219268   \n",
       "2   1.567846    1.757871  0.415717  0.688960  1.625735  0.473022   \n",
       "3  -0.349663   -0.748839 -1.127992 -0.804564 -0.975896 -0.046196   \n",
       "4   0.268888   -0.211687 -0.412614 -0.431183 -0.488090  0.473022   \n",
       "\n",
       "   cluster_label        name  \n",
       "0              0   Bulbasaur  \n",
       "1              4     Ivysaur  \n",
       "2              5    Venusaur  \n",
       "3              0  Charmander  \n",
       "4              4  Charmeleon  "
      ]
     },
     "execution_count": 27,
     "metadata": {},
     "output_type": "execute_result"
    }
   ],
   "source": [
    "df_prepared.head(5)"
   ]
  },
  {
   "cell_type": "code",
   "execution_count": 28,
   "id": "random-newman",
   "metadata": {},
   "outputs": [],
   "source": [
    "def filter_by_cluster(df, cluster_idx):\n",
    "    return df.query('cluster_label == @cluster_idx').reset_index(drop=True)"
   ]
  },
  {
   "cell_type": "code",
   "execution_count": 29,
   "id": "expanded-kingston",
   "metadata": {},
   "outputs": [],
   "source": [
    "def closest_k_in_cluster(df_one_cluster: pd.DataFrame, features: List, k: int = 10):\n",
    "    dist_mtx = pairwise_distances(df_one_cluster[select_features])\n",
    "    return np.argsort(dist_mtx)[:, :11]"
   ]
  },
  {
   "cell_type": "code",
   "execution_count": 30,
   "id": "brazilian-president",
   "metadata": {},
   "outputs": [],
   "source": [
    "def get_mapping_to_df(df_one_cluster: pd.DataFrame, closest_info: np.ndarray) -> pd.DataFrame:\n",
    "    int2str = df_one_cluster['name'].to_dict()\n",
    "    \n",
    "    # Adapted from: https://stackoverflow.com/questions/16992713/translate-every-element-in-numpy-array-according-to-key\n",
    "    map_cloest_info = np.vectorize(int2str.get)(closest_info)\n",
    "    \n",
    "    df_info = pd.DataFrame(map_cloest_info, columns=['input'] + [f'rec{i}' for i in range(1, 11)])\n",
    "    return df_info"
   ]
  },
  {
   "cell_type": "code",
   "execution_count": 31,
   "id": "motivated-emission",
   "metadata": {},
   "outputs": [],
   "source": [
    "result = []\n",
    "for i in range(0, k_final):\n",
    "    df_one_clus = filter_by_cluster(df_prepared, i)\n",
    "    cloest_info = closest_k_in_cluster(df_one_clus, select_features)\n",
    "    df_info = get_mapping_to_df(df_one_clus, cloest_info)\n",
    "    result.append(df_info)\n",
    "df_result = pd.concat(result, axis=0)"
   ]
  },
  {
   "cell_type": "code",
   "execution_count": 32,
   "id": "incomplete-affect",
   "metadata": {},
   "outputs": [
    {
     "data": {
      "text/html": [
       "<div>\n",
       "<style scoped>\n",
       "    .dataframe tbody tr th:only-of-type {\n",
       "        vertical-align: middle;\n",
       "    }\n",
       "\n",
       "    .dataframe tbody tr th {\n",
       "        vertical-align: top;\n",
       "    }\n",
       "\n",
       "    .dataframe thead th {\n",
       "        text-align: right;\n",
       "    }\n",
       "</style>\n",
       "<table border=\"1\" class=\"dataframe\">\n",
       "  <thead>\n",
       "    <tr style=\"text-align: right;\">\n",
       "      <th></th>\n",
       "      <th>input</th>\n",
       "      <th>rec1</th>\n",
       "      <th>rec2</th>\n",
       "      <th>rec3</th>\n",
       "      <th>rec4</th>\n",
       "      <th>rec5</th>\n",
       "      <th>rec6</th>\n",
       "      <th>rec7</th>\n",
       "      <th>rec8</th>\n",
       "      <th>rec9</th>\n",
       "      <th>rec10</th>\n",
       "    </tr>\n",
       "  </thead>\n",
       "  <tbody>\n",
       "    <tr>\n",
       "      <th>0</th>\n",
       "      <td>Bulbasaur</td>\n",
       "      <td>Vanillite</td>\n",
       "      <td>Popplio</td>\n",
       "      <td>Piplup</td>\n",
       "      <td>Clauncher</td>\n",
       "      <td>Oddish</td>\n",
       "      <td>Lombre</td>\n",
       "      <td>Gothita</td>\n",
       "      <td>Fennekin</td>\n",
       "      <td>Psyduck</td>\n",
       "      <td>Goomy</td>\n",
       "    </tr>\n",
       "    <tr>\n",
       "      <th>1</th>\n",
       "      <td>Charmander</td>\n",
       "      <td>Cyndaquil</td>\n",
       "      <td>Froakie</td>\n",
       "      <td>Chimchar</td>\n",
       "      <td>Natu</td>\n",
       "      <td>Treecko</td>\n",
       "      <td>Electrike</td>\n",
       "      <td>Fennekin</td>\n",
       "      <td>Delibird</td>\n",
       "      <td>Panpour</td>\n",
       "      <td>Pansear</td>\n",
       "    </tr>\n",
       "    <tr>\n",
       "      <th>2</th>\n",
       "      <td>Squirtle</td>\n",
       "      <td>Chikorita</td>\n",
       "      <td>Clauncher</td>\n",
       "      <td>Sewaddle</td>\n",
       "      <td>Binacle</td>\n",
       "      <td>Mareanie</td>\n",
       "      <td>Klink</td>\n",
       "      <td>Swablu</td>\n",
       "      <td>Piplup</td>\n",
       "      <td>Bulbasaur</td>\n",
       "      <td>Baltoy</td>\n",
       "    </tr>\n",
       "  </tbody>\n",
       "</table>\n",
       "</div>"
      ],
      "text/plain": [
       "        input       rec1       rec2      rec3       rec4      rec5       rec6  \\\n",
       "0   Bulbasaur  Vanillite    Popplio    Piplup  Clauncher    Oddish     Lombre   \n",
       "1  Charmander  Cyndaquil    Froakie  Chimchar       Natu   Treecko  Electrike   \n",
       "2    Squirtle  Chikorita  Clauncher  Sewaddle    Binacle  Mareanie      Klink   \n",
       "\n",
       "       rec7      rec8       rec9    rec10  \n",
       "0   Gothita  Fennekin    Psyduck    Goomy  \n",
       "1  Fennekin  Delibird    Panpour  Pansear  \n",
       "2    Swablu    Piplup  Bulbasaur   Baltoy  "
      ]
     },
     "execution_count": 32,
     "metadata": {},
     "output_type": "execute_result"
    }
   ],
   "source": [
    "df_result.head(3)"
   ]
  },
  {
   "cell_type": "code",
   "execution_count": 33,
   "id": "neural-negative",
   "metadata": {},
   "outputs": [],
   "source": [
    "df_long = df_result.melt(id_vars=['input'], var_name='the_rank', value_name='recommendation')\n",
    "df_long['the_rank'] = df_long.the_rank.str.replace('rec', '').astype(int)\n",
    "df_long = df_long.sort_values(['input', 'the_rank'], ignore_index=True)"
   ]
  },
  {
   "cell_type": "code",
   "execution_count": 34,
   "id": "brutal-practice",
   "metadata": {},
   "outputs": [
    {
     "data": {
      "text/html": [
       "<div>\n",
       "<style scoped>\n",
       "    .dataframe tbody tr th:only-of-type {\n",
       "        vertical-align: middle;\n",
       "    }\n",
       "\n",
       "    .dataframe tbody tr th {\n",
       "        vertical-align: top;\n",
       "    }\n",
       "\n",
       "    .dataframe thead th {\n",
       "        text-align: right;\n",
       "    }\n",
       "</style>\n",
       "<table border=\"1\" class=\"dataframe\">\n",
       "  <thead>\n",
       "    <tr style=\"text-align: right;\">\n",
       "      <th></th>\n",
       "      <th>input</th>\n",
       "      <th>the_rank</th>\n",
       "      <th>recommendation</th>\n",
       "    </tr>\n",
       "  </thead>\n",
       "  <tbody>\n",
       "    <tr>\n",
       "      <th>0</th>\n",
       "      <td>Abomasnow</td>\n",
       "      <td>1</td>\n",
       "      <td>Exeggutor</td>\n",
       "    </tr>\n",
       "    <tr>\n",
       "      <th>1</th>\n",
       "      <td>Abomasnow</td>\n",
       "      <td>2</td>\n",
       "      <td>Ampharos</td>\n",
       "    </tr>\n",
       "    <tr>\n",
       "      <th>2</th>\n",
       "      <td>Abomasnow</td>\n",
       "      <td>3</td>\n",
       "      <td>Celesteela</td>\n",
       "    </tr>\n",
       "    <tr>\n",
       "      <th>3</th>\n",
       "      <td>Abomasnow</td>\n",
       "      <td>4</td>\n",
       "      <td>Volcanion</td>\n",
       "    </tr>\n",
       "    <tr>\n",
       "      <th>4</th>\n",
       "      <td>Abomasnow</td>\n",
       "      <td>5</td>\n",
       "      <td>Magearna</td>\n",
       "    </tr>\n",
       "    <tr>\n",
       "      <th>5</th>\n",
       "      <td>Abomasnow</td>\n",
       "      <td>6</td>\n",
       "      <td>Swampert</td>\n",
       "    </tr>\n",
       "    <tr>\n",
       "      <th>6</th>\n",
       "      <td>Abomasnow</td>\n",
       "      <td>7</td>\n",
       "      <td>Necrozma</td>\n",
       "    </tr>\n",
       "    <tr>\n",
       "      <th>7</th>\n",
       "      <td>Abomasnow</td>\n",
       "      <td>8</td>\n",
       "      <td>Dragonite</td>\n",
       "    </tr>\n",
       "    <tr>\n",
       "      <th>8</th>\n",
       "      <td>Abomasnow</td>\n",
       "      <td>9</td>\n",
       "      <td>Blastoise</td>\n",
       "    </tr>\n",
       "    <tr>\n",
       "      <th>9</th>\n",
       "      <td>Abomasnow</td>\n",
       "      <td>10</td>\n",
       "      <td>Altaria</td>\n",
       "    </tr>\n",
       "    <tr>\n",
       "      <th>10</th>\n",
       "      <td>Abra</td>\n",
       "      <td>1</td>\n",
       "      <td>Gastly</td>\n",
       "    </tr>\n",
       "    <tr>\n",
       "      <th>11</th>\n",
       "      <td>Abra</td>\n",
       "      <td>2</td>\n",
       "      <td>Smoochum</td>\n",
       "    </tr>\n",
       "    <tr>\n",
       "      <th>12</th>\n",
       "      <td>Abra</td>\n",
       "      <td>3</td>\n",
       "      <td>Treecko</td>\n",
       "    </tr>\n",
       "    <tr>\n",
       "      <th>13</th>\n",
       "      <td>Abra</td>\n",
       "      <td>4</td>\n",
       "      <td>Staryu</td>\n",
       "    </tr>\n",
       "    <tr>\n",
       "      <th>14</th>\n",
       "      <td>Abra</td>\n",
       "      <td>5</td>\n",
       "      <td>Salandit</td>\n",
       "    </tr>\n",
       "    <tr>\n",
       "      <th>15</th>\n",
       "      <td>Abra</td>\n",
       "      <td>6</td>\n",
       "      <td>Helioptile</td>\n",
       "    </tr>\n",
       "    <tr>\n",
       "      <th>16</th>\n",
       "      <td>Abra</td>\n",
       "      <td>7</td>\n",
       "      <td>Houndour</td>\n",
       "    </tr>\n",
       "    <tr>\n",
       "      <th>17</th>\n",
       "      <td>Abra</td>\n",
       "      <td>8</td>\n",
       "      <td>Wingull</td>\n",
       "    </tr>\n",
       "    <tr>\n",
       "      <th>18</th>\n",
       "      <td>Abra</td>\n",
       "      <td>9</td>\n",
       "      <td>Natu</td>\n",
       "    </tr>\n",
       "    <tr>\n",
       "      <th>19</th>\n",
       "      <td>Abra</td>\n",
       "      <td>10</td>\n",
       "      <td>Meowth</td>\n",
       "    </tr>\n",
       "  </tbody>\n",
       "</table>\n",
       "</div>"
      ],
      "text/plain": [
       "        input  the_rank recommendation\n",
       "0   Abomasnow         1      Exeggutor\n",
       "1   Abomasnow         2       Ampharos\n",
       "2   Abomasnow         3     Celesteela\n",
       "3   Abomasnow         4      Volcanion\n",
       "4   Abomasnow         5       Magearna\n",
       "5   Abomasnow         6       Swampert\n",
       "6   Abomasnow         7       Necrozma\n",
       "7   Abomasnow         8      Dragonite\n",
       "8   Abomasnow         9      Blastoise\n",
       "9   Abomasnow        10        Altaria\n",
       "10       Abra         1         Gastly\n",
       "11       Abra         2       Smoochum\n",
       "12       Abra         3        Treecko\n",
       "13       Abra         4         Staryu\n",
       "14       Abra         5       Salandit\n",
       "15       Abra         6     Helioptile\n",
       "16       Abra         7       Houndour\n",
       "17       Abra         8        Wingull\n",
       "18       Abra         9           Natu\n",
       "19       Abra        10         Meowth"
      ]
     },
     "execution_count": 34,
     "metadata": {},
     "output_type": "execute_result"
    }
   ],
   "source": [
    "df_long.head(20)"
   ]
  },
  {
   "cell_type": "markdown",
   "id": "abroad-scout",
   "metadata": {},
   "source": [
    "## Get Recommendation"
   ]
  },
  {
   "cell_type": "code",
   "execution_count": 35,
   "id": "spiritual-islam",
   "metadata": {},
   "outputs": [],
   "source": [
    "def get_url(name): \n",
    "    return f'https://pokemondb.net/pokedex/{name}'"
   ]
  },
  {
   "cell_type": "code",
   "execution_count": null,
   "id": "protected-tsunami",
   "metadata": {},
   "outputs": [],
   "source": []
  }
 ],
 "metadata": {
  "kernelspec": {
   "display_name": "Python 3",
   "language": "python",
   "name": "python3"
  },
  "language_info": {
   "codemirror_mode": {
    "name": "ipython",
    "version": 3
   },
   "file_extension": ".py",
   "mimetype": "text/x-python",
   "name": "python",
   "nbconvert_exporter": "python",
   "pygments_lexer": "ipython3",
   "version": "3.7.9"
  }
 },
 "nbformat": 4,
 "nbformat_minor": 5
}
