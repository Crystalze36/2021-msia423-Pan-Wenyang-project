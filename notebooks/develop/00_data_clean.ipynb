{
 "cells": [
  {
   "cell_type": "markdown",
   "id": "sudden-cradle",
   "metadata": {},
   "source": [
    "## Setup"
   ]
  },
  {
   "cell_type": "code",
   "execution_count": 1,
   "id": "equivalent-lebanon",
   "metadata": {},
   "outputs": [],
   "source": [
    "import logging\n",
    "import re\n",
    "\n",
    "import pandas as pd\n",
    "from sklearn.cluster import KMeans\n",
    "from sklearn.preprocessing import StandardScaler\n",
    "import boto3\n",
    "import botocore"
   ]
  },
  {
   "cell_type": "markdown",
   "id": "inside-bahrain",
   "metadata": {},
   "source": [
    "### Logging"
   ]
  },
  {
   "cell_type": "code",
   "execution_count": 2,
   "id": "enabling-exercise",
   "metadata": {},
   "outputs": [],
   "source": [
    "logging.basicConfig(format='%(asctime)s %(name)-12s %(levelname)-8s %(message)s', level=logging.DEBUG)\n",
    "logging.getLogger(\"botocore\").setLevel(logging.ERROR)\n",
    "logging.getLogger(\"s3transfer\").setLevel(logging.ERROR)\n",
    "logging.getLogger(\"urllib3\").setLevel(logging.ERROR)\n",
    "logging.getLogger(\"boto3\").setLevel(logging.ERROR)\n",
    "logging.getLogger(\"asyncio\").setLevel(logging.ERROR)\n",
    "logging.getLogger(\"aiobotocore\").setLevel(logging.ERROR)\n",
    "logging.getLogger(\"s3fs\").setLevel(logging.ERROR)\n",
    "\n",
    "\n",
    "logger = logging.getLogger('s3')"
   ]
  },
  {
   "cell_type": "markdown",
   "id": "occupied-morocco",
   "metadata": {},
   "source": [
    "### S3"
   ]
  },
  {
   "cell_type": "code",
   "execution_count": 3,
   "id": "needed-target",
   "metadata": {},
   "outputs": [],
   "source": [
    "# from: https://github.com/MSIA/2021-msia423/blob/main/aws-s3/s3.py\n",
    "\n",
    "def parse_s3(s3path):\n",
    "    regex = r\"s3://([\\w._-]+)/([\\w./_-]+)\"\n",
    "\n",
    "    m = re.match(regex, s3path)\n",
    "    s3bucket = m.group(1)\n",
    "    s3path = m.group(2)\n",
    "\n",
    "    return s3bucket, s3path\n",
    "\n",
    "def upload_to_s3_pandas(local_path, s3path, sep=';'):\n",
    "\n",
    "    df = pd.read_csv(local_path, sep=sep)\n",
    "\n",
    "    try:\n",
    "        df.to_csv(s3path, sep=sep)\n",
    "    except botocore.exceptions.NoCredentialsError:\n",
    "        logger.error('Please provide AWS credentials via AWS_ACCESS_KEY_ID and AWS_SECRET_ACCESS_KEY env variables.')\n",
    "    else:\n",
    "        logger.info('Data uploaded from %s to %s', local_path, s3path)\n",
    "\n",
    "def download_from_s3_pandas(local_path, s3path, sep=';'):\n",
    "\n",
    "    try:\n",
    "        df = pd.read_csv(s3path, sep=sep)\n",
    "    except botocore.exceptions.NoCredentialsError:\n",
    "        logger.error('Please provide AWS credentials via AWS_ACCESS_KEY_ID and AWS_SECRET_ACCESS_KEY env variables.')\n",
    "    else:\n",
    "        df.to_csv(local_path, sep=sep)\n",
    "        logger.info('Data uploaded from %s to %s', local_path, s3path)\n",
    "        "
   ]
  },
  {
   "cell_type": "code",
   "execution_count": 4,
   "id": "cooperative-solid",
   "metadata": {},
   "outputs": [],
   "source": [
    "local = True"
   ]
  },
  {
   "cell_type": "markdown",
   "id": "aerial-things",
   "metadata": {},
   "source": [
    "## Load Data"
   ]
  },
  {
   "cell_type": "code",
   "execution_count": 5,
   "id": "atomic-miniature",
   "metadata": {},
   "outputs": [],
   "source": [
    "if local:\n",
    "    df = pd.read_csv('~/Desktop/Spring2021/avc/Project_External_Prepare/pokemon.csv')\n",
    "else:\n",
    "    df = pd.read_csv('s3://2021-msia423-wenyang-pan/raw/pokemon.csv')"
   ]
  },
  {
   "cell_type": "markdown",
   "id": "entire-amplifier",
   "metadata": {},
   "source": [
    "## Explore Data"
   ]
  },
  {
   "cell_type": "code",
   "execution_count": 6,
   "id": "dimensional-uruguay",
   "metadata": {},
   "outputs": [
    {
     "data": {
      "text/html": [
       "<div>\n",
       "<style scoped>\n",
       "    .dataframe tbody tr th:only-of-type {\n",
       "        vertical-align: middle;\n",
       "    }\n",
       "\n",
       "    .dataframe tbody tr th {\n",
       "        vertical-align: top;\n",
       "    }\n",
       "\n",
       "    .dataframe thead th {\n",
       "        text-align: right;\n",
       "    }\n",
       "</style>\n",
       "<table border=\"1\" class=\"dataframe\">\n",
       "  <thead>\n",
       "    <tr style=\"text-align: right;\">\n",
       "      <th></th>\n",
       "      <th>abilities</th>\n",
       "      <th>against_bug</th>\n",
       "      <th>against_dark</th>\n",
       "      <th>against_dragon</th>\n",
       "      <th>against_electric</th>\n",
       "      <th>against_fairy</th>\n",
       "      <th>against_fight</th>\n",
       "      <th>against_fire</th>\n",
       "      <th>against_flying</th>\n",
       "      <th>against_ghost</th>\n",
       "      <th>...</th>\n",
       "      <th>percentage_male</th>\n",
       "      <th>pokedex_number</th>\n",
       "      <th>sp_attack</th>\n",
       "      <th>sp_defense</th>\n",
       "      <th>speed</th>\n",
       "      <th>type1</th>\n",
       "      <th>type2</th>\n",
       "      <th>weight_kg</th>\n",
       "      <th>generation</th>\n",
       "      <th>is_legendary</th>\n",
       "    </tr>\n",
       "  </thead>\n",
       "  <tbody>\n",
       "    <tr>\n",
       "      <th>0</th>\n",
       "      <td>['Overgrow', 'Chlorophyll']</td>\n",
       "      <td>1.0</td>\n",
       "      <td>1.0</td>\n",
       "      <td>1.0</td>\n",
       "      <td>0.5</td>\n",
       "      <td>0.5</td>\n",
       "      <td>0.5</td>\n",
       "      <td>2.0</td>\n",
       "      <td>2.0</td>\n",
       "      <td>1.0</td>\n",
       "      <td>...</td>\n",
       "      <td>88.1</td>\n",
       "      <td>1</td>\n",
       "      <td>65</td>\n",
       "      <td>65</td>\n",
       "      <td>45</td>\n",
       "      <td>grass</td>\n",
       "      <td>poison</td>\n",
       "      <td>6.9</td>\n",
       "      <td>1</td>\n",
       "      <td>0</td>\n",
       "    </tr>\n",
       "    <tr>\n",
       "      <th>1</th>\n",
       "      <td>['Overgrow', 'Chlorophyll']</td>\n",
       "      <td>1.0</td>\n",
       "      <td>1.0</td>\n",
       "      <td>1.0</td>\n",
       "      <td>0.5</td>\n",
       "      <td>0.5</td>\n",
       "      <td>0.5</td>\n",
       "      <td>2.0</td>\n",
       "      <td>2.0</td>\n",
       "      <td>1.0</td>\n",
       "      <td>...</td>\n",
       "      <td>88.1</td>\n",
       "      <td>2</td>\n",
       "      <td>80</td>\n",
       "      <td>80</td>\n",
       "      <td>60</td>\n",
       "      <td>grass</td>\n",
       "      <td>poison</td>\n",
       "      <td>13.0</td>\n",
       "      <td>1</td>\n",
       "      <td>0</td>\n",
       "    </tr>\n",
       "  </tbody>\n",
       "</table>\n",
       "<p>2 rows × 41 columns</p>\n",
       "</div>"
      ],
      "text/plain": [
       "                     abilities  against_bug  against_dark  against_dragon  \\\n",
       "0  ['Overgrow', 'Chlorophyll']          1.0           1.0             1.0   \n",
       "1  ['Overgrow', 'Chlorophyll']          1.0           1.0             1.0   \n",
       "\n",
       "   against_electric  against_fairy  against_fight  against_fire  \\\n",
       "0               0.5            0.5            0.5           2.0   \n",
       "1               0.5            0.5            0.5           2.0   \n",
       "\n",
       "   against_flying  against_ghost  ...  percentage_male  pokedex_number  \\\n",
       "0             2.0            1.0  ...             88.1               1   \n",
       "1             2.0            1.0  ...             88.1               2   \n",
       "\n",
       "   sp_attack  sp_defense  speed  type1   type2  weight_kg  generation  \\\n",
       "0         65          65     45  grass  poison        6.9           1   \n",
       "1         80          80     60  grass  poison       13.0           1   \n",
       "\n",
       "   is_legendary  \n",
       "0             0  \n",
       "1             0  \n",
       "\n",
       "[2 rows x 41 columns]"
      ]
     },
     "execution_count": 6,
     "metadata": {},
     "output_type": "execute_result"
    }
   ],
   "source": [
    "df.head(2)"
   ]
  },
  {
   "cell_type": "code",
   "execution_count": 7,
   "id": "internal-oregon",
   "metadata": {},
   "outputs": [
    {
     "data": {
      "text/plain": [
       "Index(['abilities', 'against_bug', 'against_dark', 'against_dragon',\n",
       "       'against_electric', 'against_fairy', 'against_fight', 'against_fire',\n",
       "       'against_flying', 'against_ghost', 'against_grass', 'against_ground',\n",
       "       'against_ice', 'against_normal', 'against_poison', 'against_psychic',\n",
       "       'against_rock', 'against_steel', 'against_water', 'attack',\n",
       "       'base_egg_steps', 'base_happiness', 'base_total', 'capture_rate',\n",
       "       'classfication', 'defense', 'experience_growth', 'height_m', 'hp',\n",
       "       'japanese_name', 'name', 'percentage_male', 'pokedex_number',\n",
       "       'sp_attack', 'sp_defense', 'speed', 'type1', 'type2', 'weight_kg',\n",
       "       'generation', 'is_legendary'],\n",
       "      dtype='object')"
      ]
     },
     "execution_count": 7,
     "metadata": {},
     "output_type": "execute_result"
    }
   ],
   "source": [
    "df.columns"
   ]
  },
  {
   "cell_type": "markdown",
   "id": "alternative-somerset",
   "metadata": {},
   "source": [
    "## Clean Data"
   ]
  },
  {
   "cell_type": "code",
   "execution_count": 8,
   "id": "seasonal-patent",
   "metadata": {},
   "outputs": [],
   "source": [
    "select_columns = ['hp', 'attack', 'defense', 'sp_attack', 'sp_defense']"
   ]
  },
  {
   "cell_type": "code",
   "execution_count": 9,
   "id": "junior-category",
   "metadata": {},
   "outputs": [],
   "source": [
    "df_input = df[select_columns]"
   ]
  },
  {
   "cell_type": "code",
   "execution_count": 10,
   "id": "genuine-nirvana",
   "metadata": {},
   "outputs": [],
   "source": [
    "std_scale = StandardScaler()\n",
    "df_scale = pd.DataFrame(std_scale.fit_transform(df_input), columns=df_input.columns)"
   ]
  },
  {
   "cell_type": "code",
   "execution_count": 11,
   "id": "restricted-interest",
   "metadata": {},
   "outputs": [],
   "source": [
    "mod_kmeans = KMeans(n_clusters=8)\n",
    "_ = mod_kmeans.fit(df_scale)"
   ]
  },
  {
   "cell_type": "code",
   "execution_count": 12,
   "id": "determined-ethics",
   "metadata": {},
   "outputs": [],
   "source": [
    "df['labels'] = mod_kmeans.labels_"
   ]
  },
  {
   "cell_type": "code",
   "execution_count": 13,
   "id": "descending-devil",
   "metadata": {},
   "outputs": [],
   "source": [
    "user_input = 'Bulbasaur'"
   ]
  },
  {
   "cell_type": "code",
   "execution_count": 14,
   "id": "sitting-campus",
   "metadata": {},
   "outputs": [
    {
     "name": "stderr",
     "output_type": "stream",
     "text": [
      "2021-04-27 09:26:17,889 numexpr.utils INFO     Note: NumExpr detected 12 cores but \"NUMEXPR_MAX_THREADS\" not set, so enforcing safe limit of 8.\n",
      "2021-04-27 09:26:17,890 numexpr.utils INFO     NumExpr defaulting to 8 threads.\n"
     ]
    }
   ],
   "source": [
    "target_label = df.query(\"name==@user_input\")['labels'].item()"
   ]
  },
  {
   "cell_type": "code",
   "execution_count": 15,
   "id": "convinced-office",
   "metadata": {},
   "outputs": [
    {
     "data": {
      "text/html": [
       "<div>\n",
       "<style scoped>\n",
       "    .dataframe tbody tr th:only-of-type {\n",
       "        vertical-align: middle;\n",
       "    }\n",
       "\n",
       "    .dataframe tbody tr th {\n",
       "        vertical-align: top;\n",
       "    }\n",
       "\n",
       "    .dataframe thead th {\n",
       "        text-align: right;\n",
       "    }\n",
       "</style>\n",
       "<table border=\"1\" class=\"dataframe\">\n",
       "  <thead>\n",
       "    <tr style=\"text-align: right;\">\n",
       "      <th></th>\n",
       "      <th>name</th>\n",
       "      <th>type1</th>\n",
       "    </tr>\n",
       "  </thead>\n",
       "  <tbody>\n",
       "    <tr>\n",
       "      <th>0</th>\n",
       "      <td>Charmander</td>\n",
       "      <td>fire</td>\n",
       "    </tr>\n",
       "    <tr>\n",
       "      <th>1</th>\n",
       "      <td>Caterpie</td>\n",
       "      <td>bug</td>\n",
       "    </tr>\n",
       "    <tr>\n",
       "      <th>2</th>\n",
       "      <td>Metapod</td>\n",
       "      <td>bug</td>\n",
       "    </tr>\n",
       "    <tr>\n",
       "      <th>3</th>\n",
       "      <td>Weedle</td>\n",
       "      <td>bug</td>\n",
       "    </tr>\n",
       "    <tr>\n",
       "      <th>4</th>\n",
       "      <td>Kakuna</td>\n",
       "      <td>bug</td>\n",
       "    </tr>\n",
       "    <tr>\n",
       "      <th>...</th>\n",
       "      <td>...</td>\n",
       "      <td>...</td>\n",
       "    </tr>\n",
       "    <tr>\n",
       "      <th>155</th>\n",
       "      <td>Salandit</td>\n",
       "      <td>poison</td>\n",
       "    </tr>\n",
       "    <tr>\n",
       "      <th>156</th>\n",
       "      <td>Bounsweet</td>\n",
       "      <td>grass</td>\n",
       "    </tr>\n",
       "    <tr>\n",
       "      <th>157</th>\n",
       "      <td>Steenee</td>\n",
       "      <td>grass</td>\n",
       "    </tr>\n",
       "    <tr>\n",
       "      <th>158</th>\n",
       "      <td>Wimpod</td>\n",
       "      <td>bug</td>\n",
       "    </tr>\n",
       "    <tr>\n",
       "      <th>159</th>\n",
       "      <td>Cosmog</td>\n",
       "      <td>psychic</td>\n",
       "    </tr>\n",
       "  </tbody>\n",
       "</table>\n",
       "<p>160 rows × 2 columns</p>\n",
       "</div>"
      ],
      "text/plain": [
       "           name    type1\n",
       "0    Charmander     fire\n",
       "1      Caterpie      bug\n",
       "2       Metapod      bug\n",
       "3        Weedle      bug\n",
       "4        Kakuna      bug\n",
       "..          ...      ...\n",
       "155    Salandit   poison\n",
       "156   Bounsweet    grass\n",
       "157     Steenee    grass\n",
       "158      Wimpod      bug\n",
       "159      Cosmog  psychic\n",
       "\n",
       "[160 rows x 2 columns]"
      ]
     },
     "execution_count": 15,
     "metadata": {},
     "output_type": "execute_result"
    }
   ],
   "source": [
    "df_result =  df.query('labels == @target_label & name !=@user_input')[['name', 'type1']].reset_index(drop=True)\n",
    "df_result"
   ]
  },
  {
   "cell_type": "code",
   "execution_count": 16,
   "id": "charitable-senator",
   "metadata": {},
   "outputs": [],
   "source": [
    "def get_url(name): \n",
    "    return f'https://pokemondb.net/pokedex/{name}'"
   ]
  },
  {
   "cell_type": "code",
   "execution_count": 17,
   "id": "annoying-residence",
   "metadata": {},
   "outputs": [],
   "source": [
    "df_result['link'] = df_result['name'].apply(get_url)"
   ]
  },
  {
   "cell_type": "code",
   "execution_count": 18,
   "id": "australian-telephone",
   "metadata": {},
   "outputs": [
    {
     "name": "stdout",
     "output_type": "stream",
     "text": [
      "|    | name       | type1   | link                                     |\n",
      "|---:|:-----------|:--------|:-----------------------------------------|\n",
      "|  0 | Charmander | fire    | https://pokemondb.net/pokedex/Charmander |\n",
      "|  1 | Caterpie   | bug     | https://pokemondb.net/pokedex/Caterpie   |\n",
      "|  2 | Metapod    | bug     | https://pokemondb.net/pokedex/Metapod    |\n",
      "|  3 | Weedle     | bug     | https://pokemondb.net/pokedex/Weedle     |\n",
      "|  4 | Kakuna     | bug     | https://pokemondb.net/pokedex/Kakuna     |\n"
     ]
    }
   ],
   "source": [
    "print(df_result.head(5).to_markdown())"
   ]
  },
  {
   "cell_type": "code",
   "execution_count": null,
   "id": "italic-spell",
   "metadata": {},
   "outputs": [],
   "source": []
  }
 ],
 "metadata": {
  "kernelspec": {
   "display_name": "Python 3",
   "language": "python",
   "name": "python3"
  },
  "language_info": {
   "codemirror_mode": {
    "name": "ipython",
    "version": 3
   },
   "file_extension": ".py",
   "mimetype": "text/x-python",
   "name": "python",
   "nbconvert_exporter": "python",
   "pygments_lexer": "ipython3",
   "version": "3.7.9"
  }
 },
 "nbformat": 4,
 "nbformat_minor": 5
}
